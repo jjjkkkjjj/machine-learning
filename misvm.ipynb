{
 "cells": [
  {
   "cell_type": "markdown",
   "metadata": {},
   "source": [
    "# MIL"
   ]
  },
  {
   "cell_type": "code",
   "execution_count": 1,
   "metadata": {},
   "outputs": [],
   "source": [
    "%matplotlib inline\n",
    "%load_ext autoreload\n",
    "%autoreload 2\n",
    "from mildetector.mil import MIL\n",
    "import time, cv2\n",
    "import misvm"
   ]
  },
  {
   "cell_type": "markdown",
   "metadata": {},
   "source": [
    "# Definition"
   ]
  },
  {
   "cell_type": "code",
   "execution_count": 2,
   "metadata": {},
   "outputs": [],
   "source": [
    "mil = MIL(method='img', experience='pitchtypes', dirName='p-hard_n-easy', estimatorName='misvm', runenv='jupyter', debug=True)"
   ]
  },
  {
   "cell_type": "markdown",
   "metadata": {},
   "source": [
    "# Load data and create bag"
   ]
  },
  {
   "cell_type": "code",
   "execution_count": 3,
   "metadata": {
    "tags": []
   },
   "outputs": [
    {
     "name": "stdout",
     "output_type": "stream",
     "text": [
      "reading and converting into feature vectors...\n",
      " [####################]:100%\n",
      "positive: 15, negative: 15\n"
     ]
    }
   ],
   "source": [
    "#mil.setData(positiveCsvFileName='hard-video.csv', negativeCsvFileName='easy-video.csv', dicimate=1, \n",
    "#joint2imgkwargs={'save': True},\n",
    "#mhkwargs={'duration': 0.001, 'save': True})\n",
    "mil.setData(positiveCsvFileName='hard-video.csv', negativeCsvFileName='easy-video.csv', dicimate=1, \n",
    "joint2imgkwargs={'save': False},\n",
    "mhkwargs={'duration': 0.001, 'save': False})"
   ]
  },
  {
   "cell_type": "markdown",
   "metadata": {},
   "source": [
    "# Grid Search"
   ]
  },
  {
   "cell_type": "code",
   "execution_count": 4,
   "metadata": {
    "tags": [
     "outputPrepend"
    ]
   },
   "outputs": [
    {
     "name": "stderr",
     "output_type": "stream",
     "text": [
      "/home/jkado/.conda/envs/mildetector/lib/python3.5/site-packages/sklearn/model_selection/_search.py:841: DeprecationWarning: The default of the `iid` parameter will change from True to False in version 0.22 and will be removed in 0.24. This will change numeric results when test-set sizes are unequal.\n",
      "  DeprecationWarning)\n"
     ]
    },
    {
     "name": "stdout",
     "output_type": "stream",
     "text": [
      "{'split1_test_score': array([0.5       , 0.5       , 0.5       , 0.5       , 0.5       ,\n",
      "       0.5       , 0.5       , 0.5       , 0.5       , 0.5       ,\n",
      "       0.5       , 0.57142857, 0.5       , 0.5       , 0.5       ,\n",
      "       0.5       , 0.5       , 0.5       , 0.57142857, 0.5       ,\n",
      "       0.5       , 0.5       , 0.5       , 0.5       , 0.5       ,\n",
      "       0.5       , 0.5       , 0.57142857, 0.5       , 0.5       ,\n",
      "       0.5       , 0.5       , 0.42857143, 0.5       , 0.57142857,\n",
      "       0.5       , 0.5       , 0.5       , 0.5       , 0.42857143,\n",
      "       0.5       , 0.57142857, 0.5       , 0.5       , 0.5       ,\n",
      "       0.5       , 0.5       , 0.5       , 0.57142857]), 'std_score_time': array([0.01754904, 0.14593983, 0.06304193, 0.03378999, 1.65503287,\n",
      "       0.18146408, 0.19747174, 0.00426745, 0.4726932 , 0.01793551,\n",
      "       0.05043256, 2.62280917, 3.51720738, 0.07670176, 0.03561711,\n",
      "       0.35604918, 0.23407423, 0.11362576, 0.72149801, 3.54496944,\n",
      "       0.02337909, 0.01100302, 0.08587563, 0.02842569, 0.01650703,\n",
      "       1.4498955 , 0.63299227, 1.79537356, 0.02436996, 0.12655473,\n",
      "       0.09772861, 0.02826262, 0.34204447, 0.09295654, 1.05328512,\n",
      "       0.06927919, 0.14961028, 0.08838987, 0.01554441, 0.11659479,\n",
      "       0.59656656, 2.16510808, 0.07382572, 0.54909956, 0.05280662,\n",
      "       0.23047531, 1.23363435, 0.40071106, 0.33023143]), 'split1_train_score': array([0.5   , 0.5   , 0.5   , 0.5   , 0.5   , 0.5   , 0.5   , 0.5   ,\n",
      "       0.5   , 0.5   , 0.5   , 0.9375, 0.5   , 0.5   , 1.    , 1.    ,\n",
      "       0.5   , 1.    , 1.    , 0.5   , 0.5   , 1.    , 1.    , 1.    ,\n",
      "       1.    , 0.875 , 0.9375, 0.875 , 1.    , 1.    , 1.    , 1.    ,\n",
      "       0.875 , 1.    , 0.875 , 1.    , 1.    , 1.    , 1.    , 1.    ,\n",
      "       1.    , 0.8125, 1.    , 1.    , 1.    , 1.    , 1.    , 1.    ,\n",
      "       0.875 ]), 'std_fit_time': array([0.69464552, 5.20231605, 0.90872121, 0.71160221, 0.17962742,\n",
      "       0.46331453, 0.69057131, 0.74771214, 8.60175157, 1.02384984,\n",
      "       0.76849926, 0.79270387, 0.22373271, 0.13368285, 0.382568  ,\n",
      "       1.33923197, 2.14326859, 0.49881756, 0.50632715, 0.89027894,\n",
      "       0.42489541, 0.47554815, 0.86198366, 0.46404016, 0.49004066,\n",
      "       3.95813036, 0.43415415, 0.31694031, 0.42243981, 0.73130846,\n",
      "       0.38892806, 0.49364698, 0.93485737, 0.53289747, 0.43326366,\n",
      "       0.41343284, 0.67135155, 0.3908006 , 0.4749465 , 0.53783286,\n",
      "       0.49761772, 5.8203367 , 0.49085915, 0.74201572, 0.42856419,\n",
      "       0.49520874, 0.30569363, 0.30560195, 0.01951468]), 'split0_train_score': array([0.5       , 0.5       , 0.5       , 0.5       , 0.5       ,\n",
      "       0.64285714, 0.5       , 0.5       , 0.5       , 0.57142857,\n",
      "       0.5       , 0.5       , 0.5       , 0.5       , 1.        ,\n",
      "       1.        , 1.        , 1.        , 0.64285714, 0.5       ,\n",
      "       0.5       , 1.        , 1.        , 1.        , 1.        ,\n",
      "       0.85714286, 1.        , 0.5       , 1.        , 1.        ,\n",
      "       1.        , 1.        , 0.92857143, 1.        , 0.78571429,\n",
      "       1.        , 1.        , 1.        , 1.        , 1.        ,\n",
      "       1.        , 0.92857143, 1.        , 1.        , 1.        ,\n",
      "       1.        , 1.        , 1.        , 0.85714286]), 'std_test_score': array([0.        , 0.        , 0.        , 0.        , 0.        ,\n",
      "       0.        , 0.        , 0.        , 0.        , 0.        ,\n",
      "       0.        , 0.03563483, 0.        , 0.        , 0.        ,\n",
      "       0.        , 0.        , 0.        , 0.12917627, 0.        ,\n",
      "       0.        , 0.        , 0.        , 0.        , 0.        ,\n",
      "       0.        , 0.03118048, 0.03563483, 0.        , 0.        ,\n",
      "       0.        , 0.        , 0.00445435, 0.03118048, 0.09799579,\n",
      "       0.        , 0.        , 0.        , 0.        , 0.00445435,\n",
      "       0.03118048, 0.03563483, 0.        , 0.        , 0.        ,\n",
      "       0.        , 0.03118048, 0.03118048, 0.06681531]), 'rank_test_score': array([ 4,  4,  4,  4,  4,  4,  4,  4,  4,  4,  4,  1,  4,  4,  4,  4,  4,\n",
      "        4, 47,  4,  4,  4,  4,  4,  4,  4, 41,  1,  4,  4,  4,  4, 47, 41,\n",
      "       41,  4,  4,  4,  4, 47, 41,  1,  4,  4,  4,  4, 41, 41,  4],\n",
      "      dtype=int32), 'param_gamma': masked_array(data=[0.1, 0.5, 0.01, 0.05, 0.001, 0.005, 0.0001, 0.1, 0.5,\n",
      "                   0.01, 0.05, 0.001, 0.005, 0.0001, 0.1, 0.5, 0.01, 0.05,\n",
      "                   0.001, 0.005, 0.0001, 0.1, 0.5, 0.01, 0.05, 0.001,\n",
      "                   0.005, 0.0001, 0.1, 0.5, 0.01, 0.05, 0.001, 0.005,\n",
      "                   0.0001, 0.1, 0.5, 0.01, 0.05, 0.001, 0.005, 0.0001,\n",
      "                   0.1, 0.5, 0.01, 0.05, 0.001, 0.005, 0.0001],\n",
      "             mask=[False, False, False, False, False, False, False, False,\n",
      "                   False, False, False, False, False, False, False, False,\n",
      "                   False, False, False, False, False, False, False, False,\n",
      "                   False, False, False, False, False, False, False, False,\n",
      "                   False, False, False, False, False, False, False, False,\n",
      "                   False, False, False, False, False, False, False, False,\n",
      "                   False],\n",
      "       fill_value='?',\n",
      "            dtype=object), 'mean_train_score': array([0.5       , 0.5       , 0.5       , 0.5       , 0.5       ,\n",
      "       0.57142857, 0.5       , 0.5       , 0.5       , 0.53571429,\n",
      "       0.5       , 0.71875   , 0.5       , 0.5       , 1.        ,\n",
      "       1.        , 0.75      , 1.        , 0.82142857, 0.5       ,\n",
      "       0.5       , 1.        , 1.        , 1.        , 1.        ,\n",
      "       0.86607143, 0.96875   , 0.6875    , 1.        , 1.        ,\n",
      "       1.        , 1.        , 0.90178571, 1.        , 0.83035714,\n",
      "       1.        , 1.        , 1.        , 1.        , 1.        ,\n",
      "       1.        , 0.87053571, 1.        , 1.        , 1.        ,\n",
      "       1.        , 1.        , 1.        , 0.86607143]), 'params': [{'C': 10, 'gamma': 0.1, 'kernel': 'rbf'}, {'C': 10, 'gamma': 0.5, 'kernel': 'rbf'}, {'C': 10, 'gamma': 0.01, 'kernel': 'rbf'}, {'C': 10, 'gamma': 0.05, 'kernel': 'rbf'}, {'C': 10, 'gamma': 0.001, 'kernel': 'rbf'}, {'C': 10, 'gamma': 0.005, 'kernel': 'rbf'}, {'C': 10, 'gamma': 0.0001, 'kernel': 'rbf'}, {'C': 50, 'gamma': 0.1, 'kernel': 'rbf'}, {'C': 50, 'gamma': 0.5, 'kernel': 'rbf'}, {'C': 50, 'gamma': 0.01, 'kernel': 'rbf'}, {'C': 50, 'gamma': 0.05, 'kernel': 'rbf'}, {'C': 50, 'gamma': 0.001, 'kernel': 'rbf'}, {'C': 50, 'gamma': 0.005, 'kernel': 'rbf'}, {'C': 50, 'gamma': 0.0001, 'kernel': 'rbf'}, {'C': 100, 'gamma': 0.1, 'kernel': 'rbf'}, {'C': 100, 'gamma': 0.5, 'kernel': 'rbf'}, {'C': 100, 'gamma': 0.01, 'kernel': 'rbf'}, {'C': 100, 'gamma': 0.05, 'kernel': 'rbf'}, {'C': 100, 'gamma': 0.001, 'kernel': 'rbf'}, {'C': 100, 'gamma': 0.005, 'kernel': 'rbf'}, {'C': 100, 'gamma': 0.0001, 'kernel': 'rbf'}, {'C': 500, 'gamma': 0.1, 'kernel': 'rbf'}, {'C': 500, 'gamma': 0.5, 'kernel': 'rbf'}, {'C': 500, 'gamma': 0.01, 'kernel': 'rbf'}, {'C': 500, 'gamma': 0.05, 'kernel': 'rbf'}, {'C': 500, 'gamma': 0.001, 'kernel': 'rbf'}, {'C': 500, 'gamma': 0.005, 'kernel': 'rbf'}, {'C': 500, 'gamma': 0.0001, 'kernel': 'rbf'}, {'C': 1000, 'gamma': 0.1, 'kernel': 'rbf'}, {'C': 1000, 'gamma': 0.5, 'kernel': 'rbf'}, {'C': 1000, 'gamma': 0.01, 'kernel': 'rbf'}, {'C': 1000, 'gamma': 0.05, 'kernel': 'rbf'}, {'C': 1000, 'gamma': 0.001, 'kernel': 'rbf'}, {'C': 1000, 'gamma': 0.005, 'kernel': 'rbf'}, {'C': 1000, 'gamma': 0.0001, 'kernel': 'rbf'}, {'C': 5000, 'gamma': 0.1, 'kernel': 'rbf'}, {'C': 5000, 'gamma': 0.5, 'kernel': 'rbf'}, {'C': 5000, 'gamma': 0.01, 'kernel': 'rbf'}, {'C': 5000, 'gamma': 0.05, 'kernel': 'rbf'}, {'C': 5000, 'gamma': 0.001, 'kernel': 'rbf'}, {'C': 5000, 'gamma': 0.005, 'kernel': 'rbf'}, {'C': 5000, 'gamma': 0.0001, 'kernel': 'rbf'}, {'C': 10000, 'gamma': 0.1, 'kernel': 'rbf'}, {'C': 10000, 'gamma': 0.5, 'kernel': 'rbf'}, {'C': 10000, 'gamma': 0.01, 'kernel': 'rbf'}, {'C': 10000, 'gamma': 0.05, 'kernel': 'rbf'}, {'C': 10000, 'gamma': 0.001, 'kernel': 'rbf'}, {'C': 10000, 'gamma': 0.005, 'kernel': 'rbf'}, {'C': 10000, 'gamma': 0.0001, 'kernel': 'rbf'}], 'mean_fit_time': array([ 9.16079152, 17.03376007,  9.40356708,  9.25249767, 10.73943853,\n",
      "        9.78106332,  9.30650902,  9.33260036, 20.26052451,  9.30552709,\n",
      "        9.17135918, 12.07885742, 11.24447846,  9.83745086,  8.62286961,\n",
      "       12.7805469 , 10.11652088,  8.36419976, 13.03332829, 17.71194541,\n",
      "       10.76400769,  9.11650479, 12.2381078 ,  8.6376344 ,  9.01142728,\n",
      "       13.52389479,  9.01803148, 11.46084547,  8.9636867 , 11.63698554,\n",
      "        8.69349825,  8.61534321, 10.2261827 ,  9.02557015, 13.52431715,\n",
      "        8.99180412, 11.73293054,  8.72659934,  8.65513492,  8.78860939,\n",
      "        8.88109779, 15.72529185,  9.00837791, 12.17950022,  8.8408345 ,\n",
      "        8.63867545,  8.52009869,  8.25186408,  7.61740696]), 'std_train_score': array([0.        , 0.        , 0.        , 0.        , 0.        ,\n",
      "       0.07142857, 0.        , 0.        , 0.        , 0.03571429,\n",
      "       0.        , 0.21875   , 0.        , 0.        , 0.        ,\n",
      "       0.        , 0.25      , 0.        , 0.17857143, 0.        ,\n",
      "       0.        , 0.        , 0.        , 0.        , 0.        ,\n",
      "       0.00892857, 0.03125   , 0.1875    , 0.        , 0.        ,\n",
      "       0.        , 0.        , 0.02678571, 0.        , 0.04464286,\n",
      "       0.        , 0.        , 0.        , 0.        , 0.        ,\n",
      "       0.        , 0.05803571, 0.        , 0.        , 0.        ,\n",
      "       0.        , 0.        , 0.        , 0.00892857]), 'mean_score_time': array([8.05825853, 8.3923161 , 8.00396609, 8.0869478 , 6.26935029,\n",
      "       7.9264828 , 7.89848149, 8.07078266, 8.55085516, 7.92270041,\n",
      "       7.9488169 , 5.2196579 , 4.44882822, 8.02346933, 7.86259127,\n",
      "       8.47744262, 8.26421225, 8.61691689, 1.82657409, 3.84907568,\n",
      "       8.18709254, 8.2001946 , 8.61943519, 8.73079133, 8.74343264,\n",
      "       6.16227829, 8.09585238, 3.40788019, 8.32264185, 8.58503413,\n",
      "       8.61135876, 8.71368265, 7.82472169, 8.66350889, 3.43356895,\n",
      "       8.37393403, 8.62550879, 8.56014347, 8.74551868, 4.81067514,\n",
      "       8.11160719, 5.41592991, 8.50973713, 7.68810093, 7.69716358,\n",
      "       7.14150965, 4.95512736, 5.79928732, 5.2457633 ]), 'split0_test_score': array([0.5   , 0.5   , 0.5   , 0.5   , 0.5   , 0.5   , 0.5   , 0.5   ,\n",
      "       0.5   , 0.5   , 0.5   , 0.5   , 0.5   , 0.5   , 0.5   , 0.5   ,\n",
      "       0.5   , 0.5   , 0.3125, 0.5   , 0.5   , 0.5   , 0.5   , 0.5   ,\n",
      "       0.5   , 0.5   , 0.4375, 0.5   , 0.5   , 0.5   , 0.5   , 0.5   ,\n",
      "       0.4375, 0.4375, 0.375 , 0.5   , 0.5   , 0.5   , 0.5   , 0.4375,\n",
      "       0.4375, 0.5   , 0.5   , 0.5   , 0.5   , 0.5   , 0.4375, 0.4375,\n",
      "       0.4375]), 'param_C': masked_array(data=[10, 10, 10, 10, 10, 10, 10, 50, 50, 50, 50, 50, 50, 50,\n",
      "                   100, 100, 100, 100, 100, 100, 100, 500, 500, 500, 500,\n",
      "                   500, 500, 500, 1000, 1000, 1000, 1000, 1000, 1000,\n",
      "                   1000, 5000, 5000, 5000, 5000, 5000, 5000, 5000, 10000,\n",
      "                   10000, 10000, 10000, 10000, 10000, 10000],\n",
      "             mask=[False, False, False, False, False, False, False, False,\n",
      "                   False, False, False, False, False, False, False, False,\n",
      "                   False, False, False, False, False, False, False, False,\n",
      "                   False, False, False, False, False, False, False, False,\n",
      "                   False, False, False, False, False, False, False, False,\n",
      "                   False, False, False, False, False, False, False, False,\n",
      "                   False],\n",
      "       fill_value='?',\n",
      "            dtype=object), 'param_kernel': masked_array(data=['rbf', 'rbf', 'rbf', 'rbf', 'rbf', 'rbf', 'rbf', 'rbf',\n",
      "                   'rbf', 'rbf', 'rbf', 'rbf', 'rbf', 'rbf', 'rbf', 'rbf',\n",
      "                   'rbf', 'rbf', 'rbf', 'rbf', 'rbf', 'rbf', 'rbf', 'rbf',\n",
      "                   'rbf', 'rbf', 'rbf', 'rbf', 'rbf', 'rbf', 'rbf', 'rbf',\n",
      "                   'rbf', 'rbf', 'rbf', 'rbf', 'rbf', 'rbf', 'rbf', 'rbf',\n",
      "                   'rbf', 'rbf', 'rbf', 'rbf', 'rbf', 'rbf', 'rbf', 'rbf',\n",
      "                   'rbf'],\n",
      "             mask=[False, False, False, False, False, False, False, False,\n",
      "                   False, False, False, False, False, False, False, False,\n",
      "                   False, False, False, False, False, False, False, False,\n",
      "                   False, False, False, False, False, False, False, False,\n",
      "                   False, False, False, False, False, False, False, False,\n",
      "                   False, False, False, False, False, False, False, False,\n",
      "                   False],\n",
      "       fill_value='?',\n",
      "            dtype=object), 'mean_test_score': array([0.5       , 0.5       , 0.5       , 0.5       , 0.5       ,\n",
      "       0.5       , 0.5       , 0.5       , 0.5       , 0.5       ,\n",
      "       0.5       , 0.53333333, 0.5       , 0.5       , 0.5       ,\n",
      "       0.5       , 0.5       , 0.5       , 0.43333333, 0.5       ,\n",
      "       0.5       , 0.5       , 0.5       , 0.5       , 0.5       ,\n",
      "       0.5       , 0.46666667, 0.53333333, 0.5       , 0.5       ,\n",
      "       0.5       , 0.5       , 0.43333333, 0.46666667, 0.46666667,\n",
      "       0.5       , 0.5       , 0.5       , 0.5       , 0.43333333,\n",
      "       0.46666667, 0.53333333, 0.5       , 0.5       , 0.5       ,\n",
      "       0.5       , 0.46666667, 0.46666667, 0.5       ])}\n",
      "\n",
      "\n",
      "best score is\n",
      "{'C': 50, 'gamma': 0.001, 'kernel': 'rbf'}\n"
     ]
    }
   ],
   "source": [
    "estimator = misvm.miSVM(max_iters=250, verbose=False)\n",
    "params_grid = [{'gamma': [0.1, 0.5, 0.01, 0.05, 0.001, 0.005, 0.0001], 'C': [10, 50, 100, 500, 1000, 5000, 10000], 'kernel': ['rbf']}]\n",
    "mil.gridSearch(estimator=estimator, params_grid=params_grid, cv=2, threadNum=16)"
   ]
  },
  {
   "cell_type": "markdown",
   "metadata": {},
   "source": [
    "# Search Gamma"
   ]
  },
  {
   "cell_type": "code",
   "execution_count": 5,
   "metadata": {},
   "outputs": [
    {
     "name": "stdout",
     "output_type": "stream",
     "text": [
      "gamma:0.0001 --> variance:0.0006533427941730071\n",
      "gamma:0.00011 --> variance:0.0007758723754199507\n",
      "gamma:0.00012 --> variance:0.0009062314228100613\n",
      "gamma:0.00013000000000000002 --> variance:0.001043861614280436\n",
      "gamma:0.00014000000000000001 --> variance:0.0011882280079048364\n",
      "gamma:0.00015000000000000001 --> variance:0.0013388182216798853\n",
      "gamma:0.00016 --> variance:0.00149514163981223\n",
      "gamma:0.00017 --> variance:0.0016567286446865163\n",
      "gamma:0.00018 --> variance:0.001823129873718827\n",
      "gamma:0.00019 --> variance:0.001993915500324269\n",
      "gamma:0.0002 --> variance:0.002168674538250737\n",
      "gamma:0.00021 --> variance:0.0023470141685535363\n",
      "gamma:0.00022000000000000003 --> variance:0.002528559088507486\n",
      "gamma:0.00023 --> variance:0.002712950881774453\n",
      "gamma:0.00024000000000000003 --> variance:0.002899847409164926\n",
      "gamma:0.00025 --> variance:0.0030889222193522577\n",
      "gamma:0.00026000000000000003 --> variance:0.0032798639789177616\n",
      "gamma:0.00027 --> variance:0.0034723759211235787\n",
      "gamma:0.00028000000000000003 --> variance:0.0036661753128286135\n",
      "gamma:0.00029 --> variance:0.003860992938980652\n",
      "gamma:0.00030000000000000003 --> variance:0.004056572604134847\n",
      "gamma:0.00031 --> variance:0.004252670650465639\n",
      "gamma:0.00032 --> variance:0.004449055491755245\n",
      "gamma:0.00033 --> variance:0.004645507162857711\n",
      "gamma:0.00034 --> variance:0.004841816884152631\n",
      "gamma:0.00035 --> variance:0.005037786640517571\n",
      "gamma:0.00036 --> variance:0.005233228774362528\n",
      "gamma:0.00037 --> variance:0.005427965592283599\n",
      "gamma:0.00038 --> variance:0.00562182898490677\n",
      "gamma:0.00039 --> variance:0.005814660059505525\n",
      "gamma:0.0004 --> variance:0.006006308784988985\n",
      "gamma:0.00041 --> variance:0.0061966336488693905\n",
      "gamma:0.00042 --> variance:0.0063855013258298215\n",
      "gamma:0.00043000000000000004 --> variance:0.0065727863575245965\n",
      "gamma:0.00044 --> variance:0.006758370843256085\n",
      "gamma:0.00045000000000000004 --> variance:0.006942144141182493\n",
      "gamma:0.00046 --> variance:0.007124002579721907\n",
      "gamma:0.00047000000000000004 --> variance:0.007303849178827943\n",
      "gamma:0.00048 --> variance:0.00748159338082259\n",
      "gamma:0.0004900000000000001 --> variance:0.007657150790481151\n",
      "gamma:0.0005 --> variance:0.007830442924073863\n",
      "gamma:0.00051 --> variance:0.008001396967077712\n",
      "gamma:0.0005200000000000001 --> variance:0.008169945540280683\n",
      "gamma:0.0005300000000000001 --> variance:0.008336026474009472\n",
      "gamma:0.00054 --> variance:0.008499582590219814\n",
      "gamma:0.00055 --> variance:0.008660561492196553\n",
      "gamma:0.0005600000000000001 --> variance:0.00881891536161858\n",
      "gamma:0.0005700000000000001 --> variance:0.00897460076275119\n",
      "gamma:0.0005800000000000001 --> variance:0.00912757845353572\n",
      "gamma:0.0005900000000000001 --> variance:0.00927781320335356\n",
      "gamma:0.0006000000000000001 --> variance:0.009425273617248426\n",
      "gamma:0.0006100000000000001 --> variance:0.009569931966397485\n",
      "gamma:0.0006200000000000001 --> variance:0.009711764024628528\n",
      "gamma:0.0006300000000000001 --> variance:0.009850748910786388\n",
      "gamma:0.00064 --> variance:0.009986868936758306\n",
      "gamma:0.0006500000000000001 --> variance:0.010120109460973557\n",
      "gamma:0.0006600000000000001 --> variance:0.01025045874719838\n",
      "gamma:0.0006700000000000001 --> variance:0.010377907828453133\n",
      "gamma:0.00068 --> variance:0.010502450375883585\n",
      "gamma:0.0006900000000000001 --> variance:0.01062408257242374\n",
      "gamma:0.0007000000000000001 --> variance:0.01074280299109266\n",
      "gamma:0.0007100000000000001 --> variance:0.010858612477772462\n",
      "gamma:0.00072 --> variance:0.010971514038319767\n",
      "gamma:0.0007300000000000001 --> variance:0.011081512729867201\n",
      "gamma:0.0007400000000000001 --> variance:0.011188615556176057\n",
      "gamma:0.0007500000000000001 --> variance:0.011292831366905965\n",
      "gamma:0.0007600000000000002 --> variance:0.011394170760671013\n",
      "gamma:0.0007700000000000001 --> variance:0.011492645991756366\n",
      "gamma:0.0007800000000000001 --> variance:0.011588270880373138\n",
      "gamma:0.0007900000000000001 --> variance:0.011681060726333155\n",
      "gamma:0.0008000000000000001 --> variance:0.011771032226029024\n",
      "gamma:0.0008100000000000001 --> variance:0.011858203392608537\n",
      "gamma:0.0008200000000000001 --> variance:0.011942593479235798\n",
      "gamma:0.0008300000000000001 --> variance:0.012024222905335068\n",
      "gamma:0.0008400000000000001 --> variance:0.012103113185716472\n",
      "gamma:0.0008500000000000001 --> variance:0.012179286862485931\n",
      "gamma:0.0008600000000000001 --> variance:0.0122527674396448\n",
      "gamma:0.0008700000000000001 --> variance:0.012323579320287686\n",
      "gamma:0.0008800000000000001 --> variance:0.012391747746309783\n",
      "gamma:0.0008900000000000001 --> variance:0.012457298740537914\n",
      "gamma:0.0009000000000000001 --> variance:0.012520259051202305\n",
      "gamma:0.0009100000000000001 --> variance:0.01258065609866847\n",
      "gamma:0.0009200000000000001 --> variance:0.012638517924351474\n",
      "gamma:0.0009300000000000002 --> variance:0.01269387314173725\n",
      "gamma:0.0009400000000000001 --> variance:0.012746750889437738\n",
      "gamma:0.0009500000000000001 --> variance:0.012797180786209625\n",
      "gamma:0.0009600000000000001 --> variance:0.01284519288786788\n",
      "gamma:0.0009700000000000002 --> variance:0.012890817646028209\n",
      "gamma:0.00098 --> variance:0.012934085868614397\n",
      "gamma:0.00099 --> variance:0.012975028682068285\n",
      "the biggest variance is 0.00099:0.012975028682068285\n",
      "K is:\n",
      "[[0.60943764 0.49731772 0.4465027  ... 0.23077059 0.23844356 0.23855896]\n",
      " [0.53478456 0.43981145 0.39481344 ... 0.24559362 0.25164308 0.25210396]\n",
      " [0.4868795  0.4010911  0.35987717 ... 0.24480094 0.25357908 0.2527753 ]\n",
      " ...\n",
      " [0.16398431 0.15934729 0.16300196 ... 0.60082558 0.56758185 0.54845561]\n",
      " [0.16518876 0.16023036 0.1672742  ... 0.57038008 0.55310703 0.54107518]\n",
      " [0.17282295 0.1640934  0.17101975 ... 0.56575073 0.55097848 0.5434675 ]]\n"
     ]
    }
   ],
   "source": [
    "mil.searchGamma(ini=0.0001, fin=0.001, step=0.00001, randomSampledTrainRatio=0.8)"
   ]
  },
  {
   "cell_type": "code",
   "execution_count": 6,
   "metadata": {},
   "outputs": [
    {
     "name": "stdout",
     "output_type": "stream",
     "text": [
      "gamma:0.001 --> variance:0.01371174119197114\n",
      "gamma:0.002 --> variance:0.01110773678643857\n",
      "the biggest variance is 0.001:0.01371174119197114\n",
      "K is:\n",
      "[[0.63783347 0.64198097 0.61286591 ... 0.27101239 0.27012804 0.25565126]\n",
      " [0.61884633 0.6170877  0.61157273 ... 0.27926475 0.27601917 0.26606792]\n",
      " [0.57050784 0.57655771 0.57050699 ... 0.28344524 0.27697564 0.2673978 ]\n",
      " ...\n",
      " [0.29770822 0.30770924 0.3061411  ... 0.75789883 0.71003336 0.7092366 ]\n",
      " [0.29201715 0.30287054 0.30089633 ... 0.7840244  0.74398434 0.74276707]\n",
      " [0.28916    0.30025362 0.29770839 ... 0.77230353 0.73684855 0.7671778 ]]\n"
     ]
    }
   ],
   "source": [
    "mil.searchGamma(ini=0.001, fin=0.01, step=0.001, randomSampledTrainRatio=0.8)"
   ]
  },
  {
   "cell_type": "code",
   "execution_count": 7,
   "metadata": {},
   "outputs": [
    {
     "name": "stdout",
     "output_type": "stream",
     "text": [
      "gamma:0.001 --> variance:0.012923699189820836\n",
      "gamma:0.0011 --> variance:0.013194024978865598\n",
      "gamma:0.0012000000000000001 --> variance:0.013271589968771104\n",
      "gamma:0.0013 --> variance:0.013187884032598655\n",
      "the biggest variance is 0.0012000000000000001:0.013271589968771104\n",
      "K is:\n",
      "[[0.59738972 0.58226083 0.57330624 ... 0.19593206 0.19285836 0.17808424]\n",
      " [0.54740662 0.54467227 0.53518618 ... 0.1948435  0.19066338 0.17761686]\n",
      " [0.54706117 0.54347597 0.53380288 ... 0.19046685 0.18623174 0.17315937]\n",
      " ...\n",
      " [0.20803658 0.20186643 0.21010705 ... 0.73097398 0.72263146 0.70977582]\n",
      " [0.2043298  0.19934718 0.20854235 ... 0.70720815 0.76731921 0.75690077]\n",
      " [0.19054883 0.18729283 0.19597306 ... 0.67619591 0.73940093 0.80280372]]\n"
     ]
    }
   ],
   "source": [
    "mil.searchGamma(ini=0.001, fin=0.002, step=0.0001, randomSampledTrainRatio=0.8)"
   ]
  },
  {
   "cell_type": "code",
   "execution_count": 8,
   "metadata": {},
   "outputs": [
    {
     "name": "stdout",
     "output_type": "stream",
     "text": [
      "accuracy will be for train data\n",
      "[ 1, 1,-1, 1, 1, 1, 1,-1,-1, 1, 1, 1,-1,-1,-1,-1, 1, 1, 1,-1, 1,-1, 1,-1, -1,-1,-1,-1,-1, 1]\n",
      "[ 1, 1,-1, 1, 1, 1, 1,-1,-1, 1, 1, 1,-1,-1,-1,-1, 1, 1, 1, 1,-1, 1, 1,-1,  1,-1,-1,-1,-1, 1]\n",
      "Accuracy: 86.66666666666667\n",
      "[0, 1, 2, 3, 4, 5, 6, 7, 8, 9, 10, 11, 12, 13, 14, 15, 16, 17, 18, 19, 20, 21, 22, 23, 24, 25, 26, 27, 28, 29]\n"
     ]
    }
   ],
   "source": [
    "gamma = 0.0012\n",
    "C = 1000\n",
    "kernel = 'rbf'\n",
    "paramDir='g{}/c{}'.format(gamma, C)\n",
    "estimator = misvm.miSVM(kernel=kernel, gamma=gamma, C=C, verbose=False, max_iters=100)\n",
    "\n",
    "mil.train(estimator=estimator, paramDir=paramDir)\n"
   ]
  },
  {
   "cell_type": "markdown",
   "metadata": {},
   "source": [
    "# check_identification_func_max"
   ]
  },
  {
   "cell_type": "code",
   "execution_count": 9,
   "metadata": {},
   "outputs": [
    {
     "name": "stdout",
     "output_type": "stream",
     "text": [
      "[ 1, 1,-1, 1, 1, 1, 1,-1,-1, 1, 1, 1,-1,-1,-1,-1, 1, 1, 1,-1, 1,-1, 1,-1, -1,-1,-1,-1,-1, 1]\n",
      "[ 1, 1,-1, 1, 1, 1, 1,-1,-1, 1, 1, 1,-1,-1,-1,-1, 1, 1, 1, 1,-1, 1, 1,-1,  1,-1,-1,-1,-1, 1]\n",
      "Accuracy: 86.66666666666667\n",
      "\n",
      "videoname: Pitch_02_joined_p4_2\n",
      "prediction labels: 1.0\n",
      "right labels: 1\n",
      "the maximum of identification func: 1.5191878437177433\n",
      "maximum frame: 8\n",
      "\n",
      "videoname: Pitch_03_joined_p2_1\n",
      "prediction labels: 1.0\n",
      "right labels: 1\n",
      "the maximum of identification func: 1.1272233597684918\n",
      "maximum frame: 14\n",
      "\n",
      "videoname: Pitch_10_joined_p2_3\n",
      "prediction labels: 1.0\n",
      "right labels: 1\n",
      "the maximum of identification func: 1.4736754849735476\n",
      "maximum frame: 10\n",
      "\n",
      "videoname: Pitch_11_joined_p2_4\n",
      "prediction labels: 1.0\n",
      "right labels: 1\n",
      "the maximum of identification func: 0.9476094958218867\n",
      "maximum frame: 9\n",
      "\n",
      "videoname: Pitch_12_joined_p4_5\n",
      "prediction labels: 1.0\n",
      "right labels: 1\n",
      "the maximum of identification func: 1.0912838364648487\n",
      "maximum frame: 17\n",
      "\n",
      "videoname: Pitch_15_joined_p2_5\n",
      "prediction labels: 1.0\n",
      "right labels: 1\n",
      "the maximum of identification func: 1.0293147139912353\n",
      "maximum frame: 10\n",
      "\n",
      "videoname: Pitch_20_joined_p4_6\n",
      "prediction labels: 1.0\n",
      "right labels: 1\n",
      "the maximum of identification func: 1.4457432093414178\n",
      "maximum frame: 47\n",
      "\n",
      "videoname: Pitch_21_joined_p4_7\n",
      "prediction labels: 1.0\n",
      "right labels: 1\n",
      "the maximum of identification func: 1.7396118442636292\n",
      "maximum frame: 33\n",
      "\n",
      "videoname: Pitch_22_joined_p1_7\n",
      "prediction labels: 1.0\n",
      "right labels: 1\n",
      "the maximum of identification func: 1.1521575944823077\n",
      "maximum frame: 12\n",
      "\n",
      "videoname: Pitch_28_joined_p4_8\n",
      "prediction labels: 1.0\n",
      "right labels: 1\n",
      "the maximum of identification func: 1.7164351989996756\n",
      "maximum frame: 13\n",
      "\n",
      "videoname: Pitch_30_joined_p1_10\n",
      "prediction labels: 1.0\n",
      "right labels: 1\n",
      "the maximum of identification func: 1.512708784565655\n",
      "maximum frame: 37\n",
      "\n",
      "videoname: Pitch_32_joined_p1_11\n",
      "prediction labels: 1.0\n",
      "right labels: 1\n",
      "the maximum of identification func: 0.9968401847426435\n",
      "maximum frame: 21\n",
      "\n",
      "videoname: Pitch_33_joined_p4_10\n",
      "prediction labels: 1.0\n",
      "right labels: -1\n",
      "the maximum of identification func: 0.37523793529459837\n",
      "maximum frame: 38\n",
      "\n",
      "videoname: Pitch_36_joined_p4_11\n",
      "prediction labels: 1.0\n",
      "right labels: -1\n",
      "the maximum of identification func: 0.6902080923239974\n",
      "maximum frame: 89\n",
      "\n",
      "videoname: Pitch_37_joined_p3_7\n",
      "prediction labels: 1.0\n",
      "right labels: 1\n",
      "the maximum of identification func: 1.1126192752578632\n",
      "maximum frame: 7\n",
      "\n",
      "videoname: Pitch_41_joined_p2_9\n",
      "prediction labels: 1.0\n",
      "right labels: -1\n",
      "the maximum of identification func: 0.026861054867831302\n",
      "maximum frame: 29\n",
      "\n",
      "videoname: Pitch_52_joined_p4_14\n",
      "prediction labels: 1.0\n",
      "right labels: 1\n",
      "the maximum of identification func: 1.8646574205959086\n",
      "maximum frame: 12\n"
     ]
    }
   ],
   "source": [
    "mil.check_identification_func_max(paramDir, estimator='misvm.pkl.cmp')"
   ]
  },
  {
   "cell_type": "markdown",
   "metadata": {},
   "source": [
    "# Reversed condition"
   ]
  },
  {
   "cell_type": "code",
   "execution_count": 2,
   "metadata": {},
   "outputs": [
    {
     "name": "stdout",
     "output_type": "stream",
     "text": [
      "The autoreload extension is already loaded. To reload it, use:\n",
      "  %reload_ext autoreload\n",
      "reading and converting into feature vectors...\n",
      " [####################]:100%\n",
      "positive: 15, negative: 15\n"
     ]
    }
   ],
   "source": [
    "%load_ext autoreload\n",
    "%autoreload 2\n",
    "from mildetector.mil import MIL\n",
    "import time, cv2\n",
    "import misvm\n",
    "mil = MIL(method='img', experience='pitchtypes', dirName='p-easy_n-hard', estimatorName='misvm', runenv='jupyter', debug=False)\n",
    "mil.setData(positiveCsvFileName='easy-video.csv', negativeCsvFileName='hard-video.csv', dicimate=1, \n",
    "joint2imgkwargs={'save': False},\n",
    "mhkwargs={'duration': 0.001, 'save': False})"
   ]
  },
  {
   "cell_type": "markdown",
   "metadata": {},
   "source": [
    "# Grid Search"
   ]
  },
  {
   "cell_type": "code",
   "execution_count": 11,
   "metadata": {
    "tags": [
     "outputPrepend"
    ]
   },
   "outputs": [
    {
     "name": "stderr",
     "output_type": "stream",
     "text": [
      "/home/jkado/.conda/envs/mildetector/lib/python3.5/site-packages/sklearn/model_selection/_search.py:841: DeprecationWarning: The default of the `iid` parameter will change from True to False in version 0.22 and will be removed in 0.24. This will change numeric results when test-set sizes are unequal.\n",
      "  DeprecationWarning)\n"
     ]
    },
    {
     "name": "stdout",
     "output_type": "stream",
     "text": [
      "{'split1_test_score': array([0.5       , 0.5       , 0.5       , 0.5       , 0.5       ,\n",
      "       0.5       , 0.5       , 0.5       , 0.5       , 0.5       ,\n",
      "       0.5       , 0.57142857, 0.5       , 0.5       , 0.5       ,\n",
      "       0.5       , 0.5       , 0.5       , 0.5       , 0.5       ,\n",
      "       0.5       , 0.5       , 0.5       , 0.64285714, 0.5       ,\n",
      "       0.57142857, 0.5       , 0.5       , 0.5       , 0.5       ,\n",
      "       0.57142857, 0.5       , 0.57142857, 0.57142857, 0.57142857,\n",
      "       0.5       , 0.5       , 0.57142857, 0.5       , 0.5       ,\n",
      "       0.57142857, 0.57142857, 0.5       , 0.5       , 0.57142857,\n",
      "       0.5       , 0.57142857, 0.57142857, 0.57142857]), 'std_score_time': array([1.17970228e-01, 1.64278746e-02, 1.03826523e-01, 4.94658947e-03,\n",
      "       2.78664279e+00, 2.65362382e-01, 4.16761637e-02, 4.72033024e-03,\n",
      "       5.73172569e-02, 5.12719154e-04, 1.22944117e-02, 1.54061675e+00,\n",
      "       5.57462335e-01, 3.20966423e+00, 1.03558302e-02, 1.00400209e-01,\n",
      "       3.53499651e-02, 2.72886753e-02, 9.52608109e-01, 2.08343649e+00,\n",
      "       2.87688458e+00, 5.65382242e-02, 4.81524467e-02, 1.31490588e-01,\n",
      "       2.85348892e-02, 6.38957858e-01, 6.81366682e-01, 5.49282312e-01,\n",
      "       3.36859226e-02, 2.00823188e-01, 1.36992455e-01, 9.54329967e-03,\n",
      "       9.98972178e-01, 1.92929506e-02, 3.38978755e+00, 1.08102083e-01,\n",
      "       1.07702613e-01, 5.00755310e-02, 4.32193279e-03, 1.32898450e-01,\n",
      "       6.51027918e-01, 1.96714056e+00, 1.89460754e-01, 1.42658591e-01,\n",
      "       6.52799606e-02, 2.87273765e-01, 1.21667802e+00, 3.94607306e-01,\n",
      "       7.70493746e-01]), 'split1_train_score': array([0.5   , 0.5   , 0.5   , 0.5   , 0.5   , 0.5   , 0.5   , 0.5   ,\n",
      "       0.5   , 0.5625, 0.5   , 0.875 , 0.5   , 0.5   , 1.    , 1.    ,\n",
      "       0.9375, 1.    , 0.9375, 0.5   , 0.5   , 1.    , 1.    , 1.    ,\n",
      "       1.    , 1.    , 1.    , 0.875 , 1.    , 1.    , 1.    , 1.    ,\n",
      "       1.    , 1.    , 0.8125, 1.    , 1.    , 1.    , 1.    , 1.    ,\n",
      "       1.    , 0.9375, 1.    , 1.    , 1.    , 1.    , 1.    , 1.    ,\n",
      "       1.    ]), 'std_fit_time': array([0.25257671, 1.95835698, 0.2172662 , 0.27997386, 1.10087466,\n",
      "       0.10133731, 0.17698574, 0.15173984, 4.08023643, 0.05517924,\n",
      "       0.16494238, 7.20909417, 2.83089876, 0.77410007, 0.41251278,\n",
      "       1.18394804, 0.50855756, 0.47823548, 1.74711406, 5.72882318,\n",
      "       1.23831439, 0.4808681 , 0.59022176, 0.34047449, 0.42362547,\n",
      "       1.3506062 , 1.82759714, 2.42771125, 0.41787553, 0.61954093,\n",
      "       0.39892697, 0.41752732, 0.29605949, 0.49513412, 1.93147004,\n",
      "       0.37683964, 0.59405887, 0.47715199, 0.41888452, 0.53795922,\n",
      "       0.49921167, 0.15745437, 0.46567094, 0.67815995, 0.39697742,\n",
      "       0.49418616, 0.3182013 , 0.34325933, 1.13730288]), 'split0_train_score': array([0.5       , 0.5       , 0.5       , 0.5       , 0.5       ,\n",
      "       0.5       , 0.5       , 0.5       , 0.5       , 0.5       ,\n",
      "       0.5       , 0.5       , 0.5       , 0.5       , 1.        ,\n",
      "       1.        , 1.        , 1.        , 0.64285714, 0.57142857,\n",
      "       0.5       , 1.        , 1.        , 1.        , 1.        ,\n",
      "       0.85714286, 1.        , 0.5       , 1.        , 1.        ,\n",
      "       1.        , 1.        , 0.92857143, 1.        , 0.64285714,\n",
      "       1.        , 1.        , 1.        , 1.        , 1.        ,\n",
      "       1.        , 0.78571429, 1.        , 1.        , 1.        ,\n",
      "       1.        , 1.        , 1.        , 1.        ]), 'std_test_score': array([0.        , 0.        , 0.        , 0.        , 0.        ,\n",
      "       0.        , 0.        , 0.        , 0.        , 0.        ,\n",
      "       0.        , 0.03563483, 0.        , 0.        , 0.        ,\n",
      "       0.        , 0.06236096, 0.        , 0.        , 0.        ,\n",
      "       0.        , 0.        , 0.        , 0.07126966, 0.        ,\n",
      "       0.06681531, 0.        , 0.        , 0.        , 0.        ,\n",
      "       0.03563483, 0.        , 0.03563483, 0.03563483, 0.03563483,\n",
      "       0.        , 0.        , 0.03563483, 0.06236096, 0.        ,\n",
      "       0.03563483, 0.09799579, 0.        , 0.        , 0.03563483,\n",
      "       0.06236096, 0.03563483, 0.03563483, 0.06681531]), 'rank_test_score': array([14, 14, 14, 14, 14, 14, 14, 14, 14, 14, 14,  4, 14, 14, 14, 14, 49,\n",
      "       14, 14, 14, 14, 14, 14,  1, 14, 14, 14, 14, 14, 14,  4, 14,  4,  4,\n",
      "        4, 14, 14,  4,  1, 14,  4, 48, 14, 14,  4,  1,  4,  4, 14],\n",
      "      dtype=int32), 'param_gamma': masked_array(data=[0.1, 0.5, 0.01, 0.05, 0.001, 0.005, 0.0001, 0.1, 0.5,\n",
      "                   0.01, 0.05, 0.001, 0.005, 0.0001, 0.1, 0.5, 0.01, 0.05,\n",
      "                   0.001, 0.005, 0.0001, 0.1, 0.5, 0.01, 0.05, 0.001,\n",
      "                   0.005, 0.0001, 0.1, 0.5, 0.01, 0.05, 0.001, 0.005,\n",
      "                   0.0001, 0.1, 0.5, 0.01, 0.05, 0.001, 0.005, 0.0001,\n",
      "                   0.1, 0.5, 0.01, 0.05, 0.001, 0.005, 0.0001],\n",
      "             mask=[False, False, False, False, False, False, False, False,\n",
      "                   False, False, False, False, False, False, False, False,\n",
      "                   False, False, False, False, False, False, False, False,\n",
      "                   False, False, False, False, False, False, False, False,\n",
      "                   False, False, False, False, False, False, False, False,\n",
      "                   False, False, False, False, False, False, False, False,\n",
      "                   False],\n",
      "       fill_value='?',\n",
      "            dtype=object), 'mean_train_score': array([0.5       , 0.5       , 0.5       , 0.5       , 0.5       ,\n",
      "       0.5       , 0.5       , 0.5       , 0.5       , 0.53125   ,\n",
      "       0.5       , 0.6875    , 0.5       , 0.5       , 1.        ,\n",
      "       1.        , 0.96875   , 1.        , 0.79017857, 0.53571429,\n",
      "       0.5       , 1.        , 1.        , 1.        , 1.        ,\n",
      "       0.92857143, 1.        , 0.6875    , 1.        , 1.        ,\n",
      "       1.        , 1.        , 0.96428571, 1.        , 0.72767857,\n",
      "       1.        , 1.        , 1.        , 1.        , 1.        ,\n",
      "       1.        , 0.86160714, 1.        , 1.        , 1.        ,\n",
      "       1.        , 1.        , 1.        , 1.        ]), 'params': [{'C': 10, 'gamma': 0.1, 'kernel': 'rbf'}, {'C': 10, 'gamma': 0.5, 'kernel': 'rbf'}, {'C': 10, 'gamma': 0.01, 'kernel': 'rbf'}, {'C': 10, 'gamma': 0.05, 'kernel': 'rbf'}, {'C': 10, 'gamma': 0.001, 'kernel': 'rbf'}, {'C': 10, 'gamma': 0.005, 'kernel': 'rbf'}, {'C': 10, 'gamma': 0.0001, 'kernel': 'rbf'}, {'C': 50, 'gamma': 0.1, 'kernel': 'rbf'}, {'C': 50, 'gamma': 0.5, 'kernel': 'rbf'}, {'C': 50, 'gamma': 0.01, 'kernel': 'rbf'}, {'C': 50, 'gamma': 0.05, 'kernel': 'rbf'}, {'C': 50, 'gamma': 0.001, 'kernel': 'rbf'}, {'C': 50, 'gamma': 0.005, 'kernel': 'rbf'}, {'C': 50, 'gamma': 0.0001, 'kernel': 'rbf'}, {'C': 100, 'gamma': 0.1, 'kernel': 'rbf'}, {'C': 100, 'gamma': 0.5, 'kernel': 'rbf'}, {'C': 100, 'gamma': 0.01, 'kernel': 'rbf'}, {'C': 100, 'gamma': 0.05, 'kernel': 'rbf'}, {'C': 100, 'gamma': 0.001, 'kernel': 'rbf'}, {'C': 100, 'gamma': 0.005, 'kernel': 'rbf'}, {'C': 100, 'gamma': 0.0001, 'kernel': 'rbf'}, {'C': 500, 'gamma': 0.1, 'kernel': 'rbf'}, {'C': 500, 'gamma': 0.5, 'kernel': 'rbf'}, {'C': 500, 'gamma': 0.01, 'kernel': 'rbf'}, {'C': 500, 'gamma': 0.05, 'kernel': 'rbf'}, {'C': 500, 'gamma': 0.001, 'kernel': 'rbf'}, {'C': 500, 'gamma': 0.005, 'kernel': 'rbf'}, {'C': 500, 'gamma': 0.0001, 'kernel': 'rbf'}, {'C': 1000, 'gamma': 0.1, 'kernel': 'rbf'}, {'C': 1000, 'gamma': 0.5, 'kernel': 'rbf'}, {'C': 1000, 'gamma': 0.01, 'kernel': 'rbf'}, {'C': 1000, 'gamma': 0.05, 'kernel': 'rbf'}, {'C': 1000, 'gamma': 0.001, 'kernel': 'rbf'}, {'C': 1000, 'gamma': 0.005, 'kernel': 'rbf'}, {'C': 1000, 'gamma': 0.0001, 'kernel': 'rbf'}, {'C': 5000, 'gamma': 0.1, 'kernel': 'rbf'}, {'C': 5000, 'gamma': 0.5, 'kernel': 'rbf'}, {'C': 5000, 'gamma': 0.01, 'kernel': 'rbf'}, {'C': 5000, 'gamma': 0.05, 'kernel': 'rbf'}, {'C': 5000, 'gamma': 0.001, 'kernel': 'rbf'}, {'C': 5000, 'gamma': 0.005, 'kernel': 'rbf'}, {'C': 5000, 'gamma': 0.0001, 'kernel': 'rbf'}, {'C': 10000, 'gamma': 0.1, 'kernel': 'rbf'}, {'C': 10000, 'gamma': 0.5, 'kernel': 'rbf'}, {'C': 10000, 'gamma': 0.01, 'kernel': 'rbf'}, {'C': 10000, 'gamma': 0.05, 'kernel': 'rbf'}, {'C': 10000, 'gamma': 0.001, 'kernel': 'rbf'}, {'C': 10000, 'gamma': 0.005, 'kernel': 'rbf'}, {'C': 10000, 'gamma': 0.0001, 'kernel': 'rbf'}], 'mean_fit_time': array([ 9.22419393, 15.92967451,  9.42668903,  9.14120996, 10.4405725 ,\n",
      "        9.4048506 ,  9.47066402,  9.2360208 , 18.79210687,  8.85808718,\n",
      "        8.69605148, 17.75787365, 12.64949107,  9.6713469 ,  8.32058716,\n",
      "       12.74606395,  8.62619734,  8.94312906, 12.8922869 , 17.20124269,\n",
      "       10.67404509,  8.97727823, 12.35881102,  8.75235522,  8.4941597 ,\n",
      "       12.02467179, 10.34105802, 12.70483255,  8.98176312, 11.85796785,\n",
      "        8.72099185,  8.67470467, 11.51460826,  8.72972703, 13.23695147,\n",
      "        8.94270778, 11.69547045,  8.78897178,  8.59071112,  8.80578864,\n",
      "        8.90167916, 12.47827876,  8.97300804, 12.23928761,  8.65015292,\n",
      "        8.45065284,  8.41210747,  8.25646234, 11.68059969]), 'std_train_score': array([0.        , 0.        , 0.        , 0.        , 0.        ,\n",
      "       0.        , 0.        , 0.        , 0.        , 0.03125   ,\n",
      "       0.        , 0.1875    , 0.        , 0.        , 0.        ,\n",
      "       0.        , 0.03125   , 0.        , 0.14732143, 0.03571429,\n",
      "       0.        , 0.        , 0.        , 0.        , 0.        ,\n",
      "       0.07142857, 0.        , 0.1875    , 0.        , 0.        ,\n",
      "       0.        , 0.        , 0.03571429, 0.        , 0.08482143,\n",
      "       0.        , 0.        , 0.        , 0.        , 0.        ,\n",
      "       0.        , 0.07589286, 0.        , 0.        , 0.        ,\n",
      "       0.        , 0.        , 0.        , 0.        ]), 'mean_score_time': array([7.87059784, 8.32096708, 7.87386346, 7.77563989, 4.36139822,\n",
      "       7.28274548, 7.93914521, 7.79972756, 8.23413372, 8.12631309,\n",
      "       8.10874236, 1.64705515, 7.79738081, 5.02699602, 8.17849028,\n",
      "       8.54378915, 8.54916131, 8.59372997, 1.89162803, 3.22995043,\n",
      "       5.53207338, 8.28371537, 8.63180614, 8.42258894, 8.64990497,\n",
      "       4.35947216, 7.87318206, 2.46361661, 8.33010578, 8.63036406,\n",
      "       8.66811395, 8.67104375, 5.24089694, 8.6635021 , 4.27295721,\n",
      "       8.42437148, 8.59938204, 8.51728964, 8.68427026, 4.82388079,\n",
      "       8.14732862, 6.42459118, 8.45621252, 7.61259139, 7.68483305,\n",
      "       7.34411252, 5.19443691, 6.06472325, 4.00477147]), 'split0_test_score': array([0.5   , 0.5   , 0.5   , 0.5   , 0.5   , 0.5   , 0.5   , 0.5   ,\n",
      "       0.5   , 0.5   , 0.5   , 0.5   , 0.5   , 0.5   , 0.5   , 0.5   ,\n",
      "       0.375 , 0.5   , 0.5   , 0.5   , 0.5   , 0.5   , 0.5   , 0.5   ,\n",
      "       0.5   , 0.4375, 0.5   , 0.5   , 0.5   , 0.5   , 0.5   , 0.5   ,\n",
      "       0.5   , 0.5   , 0.5   , 0.5   , 0.5   , 0.5   , 0.625 , 0.5   ,\n",
      "       0.5   , 0.375 , 0.5   , 0.5   , 0.5   , 0.625 , 0.5   , 0.5   ,\n",
      "       0.4375]), 'param_C': masked_array(data=[10, 10, 10, 10, 10, 10, 10, 50, 50, 50, 50, 50, 50, 50,\n",
      "                   100, 100, 100, 100, 100, 100, 100, 500, 500, 500, 500,\n",
      "                   500, 500, 500, 1000, 1000, 1000, 1000, 1000, 1000,\n",
      "                   1000, 5000, 5000, 5000, 5000, 5000, 5000, 5000, 10000,\n",
      "                   10000, 10000, 10000, 10000, 10000, 10000],\n",
      "             mask=[False, False, False, False, False, False, False, False,\n",
      "                   False, False, False, False, False, False, False, False,\n",
      "                   False, False, False, False, False, False, False, False,\n",
      "                   False, False, False, False, False, False, False, False,\n",
      "                   False, False, False, False, False, False, False, False,\n",
      "                   False, False, False, False, False, False, False, False,\n",
      "                   False],\n",
      "       fill_value='?',\n",
      "            dtype=object), 'param_kernel': masked_array(data=['rbf', 'rbf', 'rbf', 'rbf', 'rbf', 'rbf', 'rbf', 'rbf',\n",
      "                   'rbf', 'rbf', 'rbf', 'rbf', 'rbf', 'rbf', 'rbf', 'rbf',\n",
      "                   'rbf', 'rbf', 'rbf', 'rbf', 'rbf', 'rbf', 'rbf', 'rbf',\n",
      "                   'rbf', 'rbf', 'rbf', 'rbf', 'rbf', 'rbf', 'rbf', 'rbf',\n",
      "                   'rbf', 'rbf', 'rbf', 'rbf', 'rbf', 'rbf', 'rbf', 'rbf',\n",
      "                   'rbf', 'rbf', 'rbf', 'rbf', 'rbf', 'rbf', 'rbf', 'rbf',\n",
      "                   'rbf'],\n",
      "             mask=[False, False, False, False, False, False, False, False,\n",
      "                   False, False, False, False, False, False, False, False,\n",
      "                   False, False, False, False, False, False, False, False,\n",
      "                   False, False, False, False, False, False, False, False,\n",
      "                   False, False, False, False, False, False, False, False,\n",
      "                   False, False, False, False, False, False, False, False,\n",
      "                   False],\n",
      "       fill_value='?',\n",
      "            dtype=object), 'mean_test_score': array([0.5       , 0.5       , 0.5       , 0.5       , 0.5       ,\n",
      "       0.5       , 0.5       , 0.5       , 0.5       , 0.5       ,\n",
      "       0.5       , 0.53333333, 0.5       , 0.5       , 0.5       ,\n",
      "       0.5       , 0.43333333, 0.5       , 0.5       , 0.5       ,\n",
      "       0.5       , 0.5       , 0.5       , 0.56666667, 0.5       ,\n",
      "       0.5       , 0.5       , 0.5       , 0.5       , 0.5       ,\n",
      "       0.53333333, 0.5       , 0.53333333, 0.53333333, 0.53333333,\n",
      "       0.5       , 0.5       , 0.53333333, 0.56666667, 0.5       ,\n",
      "       0.53333333, 0.46666667, 0.5       , 0.5       , 0.53333333,\n",
      "       0.56666667, 0.53333333, 0.53333333, 0.5       ])}\n",
      "\n",
      "\n",
      "best score is\n",
      "{'C': 500, 'gamma': 0.01, 'kernel': 'rbf'}\n"
     ]
    }
   ],
   "source": [
    "estimator = misvm.miSVM(max_iters=250, verbose=False)\n",
    "params_grid = [{'gamma': [0.1, 0.5, 0.01, 0.05, 0.001, 0.005, 0.0001], 'C': [10, 50, 100, 500, 1000, 5000, 10000], 'kernel': ['rbf']}]\n",
    "mil.gridSearch(estimator=estimator, params_grid=params_grid, cv=2, threadNum=16)"
   ]
  },
  {
   "cell_type": "markdown",
   "metadata": {},
   "source": [
    "# Definition"
   ]
  },
  {
   "cell_type": "code",
   "execution_count": 3,
   "metadata": {},
   "outputs": [],
   "source": [
    "gamma = 0.0012\n",
    "C = 1000\n",
    "kernel = 'rbf'\n",
    "paramDir='g{}/c{}'.format(gamma, C)\n",
    "estimator = misvm.miSVM(kernel=kernel, gamma=gamma, C=C, verbose=False, max_iters=100)"
   ]
  },
  {
   "cell_type": "markdown",
   "metadata": {},
   "source": [
    "# Train"
   ]
  },
  {
   "cell_type": "code",
   "execution_count": 13,
   "metadata": {
    "tags": []
   },
   "outputs": [
    {
     "name": "stdout",
     "output_type": "stream",
     "text": [
      "accuracy will be for train data\n",
      "[-1,-1, 1,-1,-1,-1,-1, 1, 1,-1,-1,-1, 1, 1, 1, 1,-1,-1,-1, 1,-1, 1,-1, 1,  1, 1, 1, 1, 1,-1]\n",
      "[-1,-1, 1,-1, 1,-1,-1, 1, 1,-1,-1, 1, 1, 1, 1, 1,-1,-1, 1, 1,-1, 1,-1, 1,  1, 1, 1, 1, 1,-1]\n",
      "Accuracy: 90.0\n",
      "[0, 1, 2, 3, 4, 5, 6, 7, 8, 9, 10, 11, 12, 13, 14, 15, 16, 17, 18, 19, 20, 21, 22, 23, 24, 25, 26, 27, 28, 29]\n"
     ]
    }
   ],
   "source": [
    "mil.train(estimator=estimator, paramDir=paramDir)"
   ]
  },
  {
   "cell_type": "code",
   "execution_count": 14,
   "metadata": {},
   "outputs": [
    {
     "name": "stdout",
     "output_type": "stream",
     "text": [
      "[-1,-1, 1,-1,-1,-1,-1, 1, 1,-1,-1,-1, 1, 1, 1, 1,-1,-1,-1, 1,-1, 1,-1, 1,  1, 1, 1, 1, 1,-1]\n",
      "[-1,-1, 1,-1, 1,-1,-1, 1, 1,-1,-1, 1, 1, 1, 1, 1,-1,-1, 1, 1,-1, 1,-1, 1,  1, 1, 1, 1, 1,-1]\n",
      "Accuracy: 90.0\n",
      "\n",
      "videoname: Pitch_08_joined_p1_1\n",
      "prediction labels: 1.0\n",
      "right labels: 1\n",
      "the maximum of identification func: 1.3100129704663015\n",
      "maximum frame: 16\n",
      "\n",
      "videoname: Pitch_11_joined_p2_4\n",
      "prediction labels: 1.0\n",
      "right labels: -1\n",
      "the maximum of identification func: 0.059932719235516296\n",
      "maximum frame: 0\n",
      "\n",
      "videoname: Pitch_16_joined_p3_3\n",
      "prediction labels: 1.0\n",
      "right labels: 1\n",
      "the maximum of identification func: 1.1387923493006848\n",
      "maximum frame: 4\n",
      "\n",
      "videoname: Pitch_17_joined_p1_4\n",
      "prediction labels: 1.0\n",
      "right labels: 1\n",
      "the maximum of identification func: 1.6030722155436559\n",
      "maximum frame: 26\n",
      "\n",
      "videoname: Pitch_22_joined_p1_7\n",
      "prediction labels: 1.0\n",
      "right labels: -1\n",
      "the maximum of identification func: 0.26078693938421166\n",
      "maximum frame: 100\n",
      "\n",
      "videoname: Pitch_23_joined_p2_6\n",
      "prediction labels: 1.0\n",
      "right labels: 1\n",
      "the maximum of identification func: 1.1457114376082265\n",
      "maximum frame: 6\n",
      "\n",
      "videoname: Pitch_24_joined_p1_8\n",
      "prediction labels: 1.0\n",
      "right labels: 1\n",
      "the maximum of identification func: 1.3089555407660516\n",
      "maximum frame: 23\n",
      "\n",
      "videoname: Pitch_25_joined_p1_9\n",
      "prediction labels: 1.0\n",
      "right labels: 1\n",
      "the maximum of identification func: 1.2397820680887932\n",
      "maximum frame: 45\n",
      "\n",
      "videoname: Pitch_26_joined_p3_4\n",
      "prediction labels: 1.0\n",
      "right labels: 1\n",
      "the maximum of identification func: 1.2561424427357424\n",
      "maximum frame: 66\n",
      "\n",
      "videoname: Pitch_32_joined_p1_11\n",
      "prediction labels: 1.0\n",
      "right labels: -1\n",
      "the maximum of identification func: 0.5973608192244333\n",
      "maximum frame: 101\n",
      "\n",
      "videoname: Pitch_33_joined_p4_10\n",
      "prediction labels: 1.0\n",
      "right labels: 1\n",
      "the maximum of identification func: 1.0386355172555337\n",
      "maximum frame: 6\n",
      "\n",
      "videoname: Pitch_36_joined_p4_11\n",
      "prediction labels: 1.0\n",
      "right labels: 1\n",
      "the maximum of identification func: 1.1905607757061407\n",
      "maximum frame: 35\n",
      "\n",
      "videoname: Pitch_38_joined_p1_12\n",
      "prediction labels: 1.0\n",
      "right labels: 1\n",
      "the maximum of identification func: 1.143008416717115\n",
      "maximum frame: 0\n",
      "\n",
      "videoname: Pitch_41_joined_p2_9\n",
      "prediction labels: 1.0\n",
      "right labels: 1\n",
      "the maximum of identification func: 0.9796768896152068\n",
      "maximum frame: 2\n",
      "\n",
      "videoname: Pitch_42_joined_p3_10\n",
      "prediction labels: 1.0\n",
      "right labels: 1\n",
      "the maximum of identification func: 0.9872534913764461\n",
      "maximum frame: 21\n",
      "\n",
      "videoname: Pitch_45_joined_p2_10\n",
      "prediction labels: 1.0\n",
      "right labels: 1\n",
      "the maximum of identification func: 1.07995503787755\n",
      "maximum frame: 6\n",
      "\n",
      "videoname: Pitch_47_joined_p1_13\n",
      "prediction labels: 1.0\n",
      "right labels: 1\n",
      "the maximum of identification func: 1.133101385418346\n",
      "maximum frame: 35\n",
      "\n",
      "videoname: Pitch_48_joined_p2_11\n",
      "prediction labels: 1.0\n",
      "right labels: 1\n",
      "the maximum of identification func: 0.9608857433080225\n",
      "maximum frame: 0\n"
     ]
    }
   ],
   "source": [
    "mil.check_identification_func_max(paramDir, estimator='misvm.pkl.cmp')"
   ]
  },
  {
   "cell_type": "markdown",
   "metadata": {},
   "source": [
    "# Leave one person out"
   ]
  },
  {
   "cell_type": "code",
   "execution_count": 15,
   "metadata": {
    "tags": [
     "outputPrepend"
    ]
   },
   "outputs": [
    {
     "name": "stdout",
     "output_type": "stream",
     "text": [
      "Accuracy: 50.0\n",
      "accuracies for train\n",
      "{'r3': 92.0, 'r4': 81.81818181818183, 'r1': 95.23809523809523, 'r2': 86.36363636363636}\n"
     ]
    }
   ],
   "source": [
    "mil.leaveOnePersonOut(estimator, paramDir, trainAcc=True)"
   ]
  },
  {
   "cell_type": "code",
   "execution_count": 15,
   "metadata": {},
   "outputs": [
    {
     "data": {
      "image/png": "[encoded data removed]",
      "text/plain": [
       "<Figure size 576x432 with 2 Axes>"
      ]
     },
     "metadata": {
      "needs_background": "light"
     },
     "output_type": "display_data"
    }
   ],
   "source": [
    "labels, predicted_labels = mil.parse_txt(paramDir, 'leave-one-person-out.txt')\n",
    "mil.confusion_matrix(predicted_labels, normalize=False, savepath='./result/pitchtypes/p-easy_n-hard/g0.0012/c1000/leave-one-person-out.png')"
   ]
  },
  {
   "cell_type": "markdown",
   "metadata": {},
   "source": [
    "# Leave one out"
   ]
  },
  {
   "cell_type": "code",
   "execution_count": 17,
   "metadata": {},
   "outputs": [
    {
     "name": "stdout",
     "output_type": "stream",
     "text": [
      "Accuracy: 56.666666666666664\n",
      "Accuracy: 56.666666666666664\n",
      "accuracies for train\n",
      "[89.65517241379311, 89.65517241379311, 82.75862068965517, 89.65517241379311, 86.20689655172413, 89.65517241379311, 93.10344827586206, 89.65517241379311, 89.65517241379311, 89.65517241379311, 93.10344827586206, 89.65517241379311, 89.65517241379311, 89.65517241379311, 89.65517241379311, 82.75862068965517, 93.10344827586206, 89.65517241379311, 93.10344827586206, 89.65517241379311, 89.65517241379311, 93.10344827586206, 89.65517241379311, 86.20689655172413, 89.65517241379311, 89.65517241379311, 93.10344827586206, 89.65517241379311, 89.65517241379311, 93.10344827586206]\n"
     ]
    }
   ],
   "source": [
    "mil.leaveOneOut(estimator, paramDir, n_jobs=16, trainAcc=True)"
   ]
  },
  {
   "cell_type": "code",
   "execution_count": 14,
   "metadata": {},
   "outputs": [
    {
     "data": {
      "image/png": "[encoded data removed]",
      "text/plain": [
       "<Figure size 576x432 with 2 Axes>"
      ]
     },
     "metadata": {
      "needs_background": "light"
     },
     "output_type": "display_data"
    }
   ],
   "source": [
    "labels, predicted_labels = mil.parse_txt(paramDir, 'leave-one-out.txt')\n",
    "mil.confusion_matrix(predicted_labels, normalize=False, savepath='./result/pitchtypes/p-easy_n-hard/g0.0012/c1000/leave-one-out.png')"
   ]
  },
  {
   "cell_type": "code",
   "execution_count": null,
   "metadata": {},
   "outputs": [],
   "source": []
  }
 ],
 "metadata": {
  "kernelspec": {
   "display_name": "mildetector",
   "language": "python",
   "name": "mildetector"
  },
  "language_info": {
   "codemirror_mode": {
    "name": "ipython",
    "version": 3
   },
   "file_extension": ".py",
   "mimetype": "text/x-python",
   "name": "python",
   "nbconvert_exporter": "python",
   "pygments_lexer": "ipython3",
   "version": "3.5.6"
  }
 },
 "nbformat": 4,
 "nbformat_minor": 4
}
