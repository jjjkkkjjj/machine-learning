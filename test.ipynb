{
 "cells": [
  {
   "cell_type": "markdown",
   "metadata": {},
   "source": [
    "# MIL"
   ]
  },
  {
   "cell_type": "code",
   "execution_count": 36,
   "metadata": {},
   "outputs": [
    {
     "output_type": "stream",
     "name": "stdout",
     "text": [
      "The autoreload extension is already loaded. To reload it, use:\n  %reload_ext autoreload\n"
     ]
    }
   ],
   "source": [
    "%load_ext autoreload\n",
    "%autoreload 2\n",
    "from mildetector.mil import MIL\n",
    "import time, cv2"
   ]
  },
  {
   "cell_type": "code",
   "execution_count": 37,
   "metadata": {
    "tags": []
   },
   "outputs": [
    {
     "output_type": "stream",
     "name": "stdout",
     "text": [
      "reading and converting into feature vectors...\n",
      " [####################]:100%\n",
      "positive: 15, negative: 15\n"
     ]
    }
   ],
   "source": [
    "mil = MIL(method='img', experience='pitchtypes', dirName='test', estimatorName='misvm', runenv='jupyter', debug=True)\n",
    "mil.setData(positiveCsvFileName='hard-video.csv', negativeCsvFileName='easy-video.csv', dicimate=1, \n",
    "joint2imgkwargs={'save': True},\n",
    "mhkwargs={'duration': 0.001, 'save': True})"
   ]
  },
  {
   "cell_type": "code",
   "execution_count": 20,
   "metadata": {},
   "outputs": [
    {
     "name": "stdout",
     "output_type": "stream",
     "text": [
      "2671897.703281201\n",
      "16.789353\n"
     ]
    }
   ],
   "source": [
    "import cv2, time\n",
    "print(cv2.getTickCount() / cv2.getTickFrequency())\n",
    "print(time.clock())"
   ]
  },
  {
   "cell_type": "code",
   "execution_count": 15,
   "metadata": {},
   "outputs": [
    {
     "data": {
      "text/plain": [
       "{'negativeCsvFileName': 'easy-video.csv',\n",
       " 'positiveCsvFileName': 'hard-video.csv'}"
      ]
     },
     "execution_count": 15,
     "metadata": {},
     "output_type": "execute_result"
    }
   ],
   "source": [
    "mil.info"
   ]
  },
  {
   "cell_type": "code",
   "execution_count": null,
   "metadata": {},
   "outputs": [],
   "source": []
  },
  {
   "cell_type": "code",
   "execution_count": 33,
   "metadata": {},
   "outputs": [
    {
     "data": {
      "text/html": [
       "<div>\n",
       "<style scoped>\n",
       "    .dataframe tbody tr th:only-of-type {\n",
       "        vertical-align: middle;\n",
       "    }\n",
       "\n",
       "    .dataframe tbody tr th {\n",
       "        vertical-align: top;\n",
       "    }\n",
       "\n",
       "    .dataframe thead th {\n",
       "        text-align: right;\n",
       "    }\n",
       "</style>\n",
       "<table border=\"1\" class=\"dataframe\">\n",
       "  <thead>\n",
       "    <tr style=\"text-align: right;\">\n",
       "      <th></th>\n",
       "      <th>0</th>\n",
       "      <th>1</th>\n",
       "      <th>2</th>\n",
       "    </tr>\n",
       "  </thead>\n",
       "  <tbody>\n",
       "    <tr>\n",
       "      <th>0</th>\n",
       "      <td>Pitch_17_joined_p1_4</td>\n",
       "      <td>r1</td>\n",
       "      <td>NaN</td>\n",
       "    </tr>\n",
       "    <tr>\n",
       "      <th>1</th>\n",
       "      <td>Pitch_25_joined_p1_9</td>\n",
       "      <td>r1</td>\n",
       "      <td>NaN</td>\n",
       "    </tr>\n",
       "    <tr>\n",
       "      <th>2</th>\n",
       "      <td>Pitch_38_joined_p1_12</td>\n",
       "      <td>r1</td>\n",
       "      <td>NaN</td>\n",
       "    </tr>\n",
       "    <tr>\n",
       "      <th>3</th>\n",
       "      <td>Pitch_33_joined_p4_10</td>\n",
       "      <td>r4</td>\n",
       "      <td>NaN</td>\n",
       "    </tr>\n",
       "    <tr>\n",
       "      <th>4</th>\n",
       "      <td>Pitch_45_joined_p2_10</td>\n",
       "      <td>r2</td>\n",
       "      <td>NaN</td>\n",
       "    </tr>\n",
       "    <tr>\n",
       "      <th>5</th>\n",
       "      <td>Pitch_16_joined_p3_3</td>\n",
       "      <td>r3</td>\n",
       "      <td>NaN</td>\n",
       "    </tr>\n",
       "    <tr>\n",
       "      <th>6</th>\n",
       "      <td>Pitch_42_joined_p3_10</td>\n",
       "      <td>r3</td>\n",
       "      <td>NaN</td>\n",
       "    </tr>\n",
       "    <tr>\n",
       "      <th>7</th>\n",
       "      <td>Pitch_36_joined_p4_11</td>\n",
       "      <td>r4</td>\n",
       "      <td>NaN</td>\n",
       "    </tr>\n",
       "    <tr>\n",
       "      <th>8</th>\n",
       "      <td>Pitch_8_joined_p1_1</td>\n",
       "      <td>r1</td>\n",
       "      <td>NaN</td>\n",
       "    </tr>\n",
       "    <tr>\n",
       "      <th>9</th>\n",
       "      <td>Pitch_24_joined_p1_8</td>\n",
       "      <td>r1</td>\n",
       "      <td>NaN</td>\n",
       "    </tr>\n",
       "    <tr>\n",
       "      <th>10</th>\n",
       "      <td>Pitch_48_joined_p2_11</td>\n",
       "      <td>r2</td>\n",
       "      <td>NaN</td>\n",
       "    </tr>\n",
       "    <tr>\n",
       "      <th>11</th>\n",
       "      <td>Pitch_41_joined_p2_9</td>\n",
       "      <td>r2</td>\n",
       "      <td>NaN</td>\n",
       "    </tr>\n",
       "    <tr>\n",
       "      <th>12</th>\n",
       "      <td>Pitch_47_joined_p1_13</td>\n",
       "      <td>r1</td>\n",
       "      <td>NaN</td>\n",
       "    </tr>\n",
       "    <tr>\n",
       "      <th>13</th>\n",
       "      <td>Pitch_23_joined_p2_6</td>\n",
       "      <td>r2</td>\n",
       "      <td>NaN</td>\n",
       "    </tr>\n",
       "    <tr>\n",
       "      <th>14</th>\n",
       "      <td>Pitch_26_joined_p3_4</td>\n",
       "      <td>r3</td>\n",
       "      <td>NaN</td>\n",
       "    </tr>\n",
       "  </tbody>\n",
       "</table>\n",
       "</div>"
      ],
      "text/plain": [
       "                        0   1   2\n",
       "0    Pitch_17_joined_p1_4  r1 NaN\n",
       "1    Pitch_25_joined_p1_9  r1 NaN\n",
       "2   Pitch_38_joined_p1_12  r1 NaN\n",
       "3   Pitch_33_joined_p4_10  r4 NaN\n",
       "4   Pitch_45_joined_p2_10  r2 NaN\n",
       "5    Pitch_16_joined_p3_3  r3 NaN\n",
       "6   Pitch_42_joined_p3_10  r3 NaN\n",
       "7   Pitch_36_joined_p4_11  r4 NaN\n",
       "8     Pitch_8_joined_p1_1  r1 NaN\n",
       "9    Pitch_24_joined_p1_8  r1 NaN\n",
       "10  Pitch_48_joined_p2_11  r2 NaN\n",
       "11   Pitch_41_joined_p2_9  r2 NaN\n",
       "12  Pitch_47_joined_p1_13  r1 NaN\n",
       "13   Pitch_23_joined_p2_6  r2 NaN\n",
       "14   Pitch_26_joined_p3_4  r3 NaN"
      ]
     },
     "execution_count": 33,
     "metadata": {},
     "output_type": "execute_result"
    }
   ],
   "source": [
    "import pandas as pd\n",
    "df = pd.read_csv('video/pitchtypes/easy-video.csv', header=None)\n",
    "df\n",
    "#for row in df.iterrows():\n",
    "#    print(row[0])\n",
    "#    print(row[1])"
   ]
  },
  {
   "cell_type": "code",
   "execution_count": null,
   "metadata": {},
   "outputs": [],
   "source": []
  }
 ],
 "metadata": {
  "kernelspec": {
   "display_name": "mildetector",
   "language": "python",
   "name": "mildetector"
  },
  "language_info": {
   "codemirror_mode": {
    "name": "ipython",
    "version": 3
   },
   "file_extension": ".py",
   "mimetype": "text/x-python",
   "name": "python",
   "nbconvert_exporter": "python",
   "pygments_lexer": "ipython3",
   "version": "3.5.6-final"
  }
 },
 "nbformat": 4,
 "nbformat_minor": 4
}